{
 "cells": [
  {
   "cell_type": "markdown",
   "id": "6aed7e29",
   "metadata": {},
   "source": [
    "### Importing necessary libraries\n"
   ]
  },
  {
   "cell_type": "code",
   "execution_count": 1,
   "id": "63b92318",
   "metadata": {},
   "outputs": [],
   "source": [
    "\n",
    "import pandas as pd \n",
    "import pyodbc\n",
    "import boto3\n",
    "import warnings\n",
    "import redshift_connector\n",
    "import psycopg2\n",
    "from io import StringIO # python3; python2: BytesIO \n",
    "import boto3\n",
    "\n",
    "warnings.filterwarnings('ignore')"
   ]
  },
  {
   "cell_type": "markdown",
   "id": "da7a5d11",
   "metadata": {},
   "source": [
    "### Creating a dictionary to connect to the Local Database"
   ]
  },
  {
   "cell_type": "code",
   "execution_count": 2,
   "id": "131c4589",
   "metadata": {},
   "outputs": [],
   "source": [
    "\n",
    "DB = {'servername': 'DESKTOP-1OD4A1P\\SQLEXPRESS',\n",
    "      'database': 'Apartment_KK'}"
   ]
  },
  {
   "cell_type": "markdown",
   "id": "10351ec9",
   "metadata": {},
   "source": [
    "### Creating a connection to the Database"
   ]
  },
  {
   "cell_type": "code",
   "execution_count": 3,
   "id": "f74222bc",
   "metadata": {},
   "outputs": [],
   "source": [
    "\n",
    "\n",
    "conn = pyodbc.connect(\"Driver={SQL Server Native Client 11.0};\"\n",
    "                      \"Server=DESKTOP-1OD4A1P\\SQLEXPRESS;\"\n",
    "                      \"Database=Apartment_KK;\"\n",
    "                      \"Trusted_Connection=yes;\")"
   ]
  },
  {
   "cell_type": "markdown",
   "id": "cb80ee95",
   "metadata": {},
   "source": [
    "### Creating a dataframe for each tables in the database."
   ]
  },
  {
   "cell_type": "code",
   "execution_count": 4,
   "id": "73aa7fdf",
   "metadata": {},
   "outputs": [],
   "source": [
    "\n",
    "\n",
    "employee = pd.read_sql_query(\"Select * FROM employee\", conn)\n",
    "parts = pd.read_sql_query(\"Select * FROM parts\", conn)\n",
    "supplier = pd.read_sql_query(\"Select * FROM supplier\", conn)\n",
    "partsmaintenance = pd.read_sql_query(\"Select * FROM Partsmaintenance\", conn)\n",
    "maintenance = pd.read_sql_query(\"Select * FROM maintenance\", conn)\n",
    "employeemaintenance = pd.read_sql_query(\"Select * FROM employeemaintenance\", conn)\n",
    "lease = pd.read_sql_query(\"Select * FROM lease\", conn)\n",
    "unit = pd.read_sql_query(\"Select * FROM unit\", conn)\n",
    "parking = pd.read_sql_query(\"Select * FROM parking\", conn)\n",
    "occupants = pd.read_sql_query(\"Select * FROM occupants\", conn)\n",
    "resident = pd.read_sql_query(\"Select * FROM resident\", conn)\n",
    "rentpayment = pd.read_sql_query(\"Select * FROM rentpayment\", conn)"
   ]
  },
  {
   "cell_type": "markdown",
   "id": "f53e2831",
   "metadata": {},
   "source": [
    "### Creating a fact table for rent payments by joining 4 tables Resident, Unit, Lease and RentPayment"
   ]
  },
  {
   "cell_type": "code",
   "execution_count": 5,
   "id": "e16ea954",
   "metadata": {},
   "outputs": [],
   "source": [
    "\n",
    "\n",
    "fact_bill = pd.read_sql_query(\"\"\"SELECT\n",
    "                                    Resident.ResidentID,\n",
    "                                    Unit.UnitID,\n",
    "                                    Lease.LeaseID,\n",
    "                                    RentPayment.PaymentID,\n",
    "                                    RentPayment.Date,\n",
    "                                    RentPayment.Amount,\n",
    "                                    RentPayment.AmountDue\n",
    "                                FROM\n",
    "                                    Resident\n",
    "                                JOIN\n",
    "                                    Lease \n",
    "                                ON\n",
    "                                    Lease.ResidentID = Resident.ResidentID\n",
    "                                JOIN\n",
    "                                    Unit\n",
    "                                ON\n",
    "                                    Lease.UnitID = Unit.UnitID\n",
    "                                JOIN\n",
    "                                    RentPayment\n",
    "                                ON\n",
    "                                    RentPayment.PaymentID = Unit.UnitID\"\"\", conn)"
   ]
  },
  {
   "cell_type": "markdown",
   "id": "db763c1b",
   "metadata": {},
   "source": [
    "### Creating dimension tables"
   ]
  },
  {
   "cell_type": "code",
   "execution_count": 6,
   "id": "4c37a240",
   "metadata": {},
   "outputs": [],
   "source": [
    "\n",
    "\n",
    "dim_lease = pd.read_sql_query(\"\"\"SELECT\n",
    "                                    LeaseID,\n",
    "                                    StartDate,\n",
    "                                    EndDate,\n",
    "                                    MonthlyRent,\n",
    "                                    SecurityDeposit\n",
    "                                FROM \n",
    "                                    Lease\"\"\",conn)\n",
    "\n",
    "#Creating dimension table for apartment units\n",
    "\n",
    "dim_unit = pd.read_sql_query(\"\"\"SELECT\n",
    "                                    UnitId,\n",
    "                                    Area,\n",
    "                                    Type,\n",
    "                                    Baths,\n",
    "                                    Bed,\n",
    "                                    Laundry,\n",
    "                                    ParkingNo \n",
    "                                FROM \n",
    "                                    Unit;\"\"\", conn)\n",
    "\n",
    "#Creating dimension table for residents\n",
    "\n",
    "dim_resident = pd.read_sql_query(\"SELECT * FROM Resident\",conn)\n",
    "\n",
    "#Crreating dimension table for payments\n",
    "\n",
    "dim_payment = pd.read_sql_query(\"\"\"SELECT\n",
    "                                        PaymentId,\n",
    "                                        Type,\n",
    "                                        Date,\n",
    "                                        Amount,\n",
    "                                        AmountDue \n",
    "                                    FROM \n",
    "                                        RentPayment\"\"\",conn)\n",
    "\n",
    "#Creating a dimension for employees\n",
    "\n",
    "dim_employee = pd.read_sql_query(\"SELECT * FROM Employee;\", conn)\n",
    "\n",
    "#Creating a dimension for parts\n",
    "\n",
    "dim_parts = pd.read_sql_query(\"\"\"SELECT \n",
    "                                    PartId,\n",
    "                                    Name,\n",
    "                                    UnitPRice,\n",
    "                                    QuantityAvailable\n",
    "                                FROM \n",
    "                                    Parts; \"\"\",conn)"
   ]
  },
  {
   "cell_type": "markdown",
   "id": "92df8c12",
   "metadata": {},
   "source": [
    "### Creating a fact table for maintenance joining 3 tables"
   ]
  },
  {
   "cell_type": "code",
   "execution_count": 7,
   "id": "99731c4a",
   "metadata": {},
   "outputs": [],
   "source": [
    "\n",
    "\n",
    "fact_maintenance = pd.read_sql_query(\"\"\"SELECT \n",
    "                                            Maintenance.UnitID,\n",
    "                                            EmployeeMaintenance.EmployeeID,\n",
    "                                            PartsMaintenance.PartID,\n",
    "                                            Maintenance.Type,\n",
    "                                            Maintenance.ReportDate,\n",
    "                                            Maintenance.StartDate,\n",
    "                                            Maintenance.CompletionDate\n",
    "                                        FROM \n",
    "                                            EmployeeMaintenance\n",
    "                                        JOIN \n",
    "                                            Maintenance\n",
    "                                        ON \n",
    "                                            Maintenance.MaintenanceID = EmployeeMaintenance.EmployeeID\n",
    "                                        JOIN \n",
    "                                            PartsMaintenance\n",
    "                                        ON \n",
    "                                            PartsMaintenance.MaintenanceId = Maintenance.MaintenanceID; \"\"\",conn)"
   ]
  },
  {
   "cell_type": "markdown",
   "id": "4f5f35ed",
   "metadata": {},
   "source": [
    "### Hiding Aws Access Key and Secret Access Key before connection"
   ]
  },
  {
   "cell_type": "code",
   "execution_count": 9,
   "id": "5e11b18b",
   "metadata": {},
   "outputs": [],
   "source": [
    "import getpass"
   ]
  },
  {
   "cell_type": "code",
   "execution_count": 10,
   "id": "99a2d23e",
   "metadata": {},
   "outputs": [
    {
     "name": "stdout",
     "output_type": "stream",
     "text": [
      "Enter AWS ACCESS KEY ········\n",
      "ENTER AWS SERCRET KEY········\n"
     ]
    }
   ],
   "source": [
    "AWS_ACCESS_KEY = getpass.getpass('Enter AWS ACCESS KEY ')\n",
    "AWS_SECRET_KEY = getpass.getpass('ENTER AWS SERCRET KEY')\n",
    "AWS_REGION = \"us-east-1\""
   ]
  },
  {
   "cell_type": "markdown",
   "id": "e759fa04",
   "metadata": {},
   "source": [
    "### Connection to s3 bucket in AWS."
   ]
  },
  {
   "cell_type": "code",
   "execution_count": 11,
   "id": "067a6304",
   "metadata": {},
   "outputs": [],
   "source": [
    "\n",
    "s3_client = boto3.client(\"s3\",\n",
    "aws_access_key_id = AWS_ACCESS_KEY,\n",
    "aws_secret_access_key = AWS_SECRET_KEY,\n",
    "region_name = AWS_REGION,)"
   ]
  },
  {
   "cell_type": "markdown",
   "id": "e90e6716",
   "metadata": {},
   "source": [
    "### Uploading all the facts and dimension tables in s3 bucket."
   ]
  },
  {
   "cell_type": "code",
   "execution_count": 12,
   "id": "f31a299a",
   "metadata": {},
   "outputs": [],
   "source": [
    "\n",
    "bucket = 'kshitiz-project1' # already created on S3\n",
    "\n",
    "#fact_bill\n",
    "\n",
    "csv_buffer = StringIO()\n",
    "fact_bill.to_csv(csv_buffer)\n",
    "response = s3_client.put_object(Bucket = bucket, Key = \"Apartment/fact_bill.csv\", Body = csv_buffer.getvalue())\n"
   ]
  },
  {
   "cell_type": "code",
   "execution_count": 15,
   "id": "49906800",
   "metadata": {},
   "outputs": [],
   "source": [
    "#dim_lease\n",
    "\n",
    "csv_buffer = StringIO()\n",
    "dim_lease.to_csv(csv_buffer)\n",
    "response = s3_client.put_object(Bucket = bucket, Key = \"Apartment/dim_lease.csv\", Body = csv_buffer.getvalue())\n",
    "\n"
   ]
  },
  {
   "cell_type": "code",
   "execution_count": 16,
   "id": "4cf1fbd2",
   "metadata": {},
   "outputs": [],
   "source": [
    "#dim_unit\n",
    "\n",
    "dim_unit.to_csv(csv_buffer)\n",
    "response = s3_client.put_object(Bucket = bucket, Key = \"Apartment/dim_unit.csv\", Body = csv_buffer.getvalue())\n"
   ]
  },
  {
   "cell_type": "code",
   "execution_count": 17,
   "id": "3816a3ad",
   "metadata": {},
   "outputs": [],
   "source": [
    "#dim_resident\n",
    "\n",
    "dim_resident.to_csv(csv_buffer)\n",
    "response = s3_client.put_object(Bucket = bucket, Key = \"Apartment/dim_resident.csv\", Body = csv_buffer.getvalue())\n"
   ]
  },
  {
   "cell_type": "code",
   "execution_count": 18,
   "id": "0a3d139b",
   "metadata": {},
   "outputs": [],
   "source": [
    "#dim_payment\n",
    "\n",
    "dim_payment.to_csv(csv_buffer)\n",
    "response = s3_client.put_object(Bucket = bucket, Key = \"Apartment/dim_payment.csv\", Body = csv_buffer.getvalue())\n"
   ]
  },
  {
   "cell_type": "code",
   "execution_count": 19,
   "id": "7588e16d",
   "metadata": {},
   "outputs": [],
   "source": [
    "#fact_maintenance \n",
    "\n",
    "fact_maintenance.to_csv(csv_buffer)\n",
    "response = s3_client.put_object(Bucket = bucket, Key = \"Apartment/fact_maintenance.csv\", Body = csv_buffer.getvalue())\n"
   ]
  },
  {
   "cell_type": "code",
   "execution_count": 20,
   "id": "2cb3f2f2",
   "metadata": {},
   "outputs": [],
   "source": [
    "#dim_employee\n",
    "\n",
    "dim_employee.to_csv(csv_buffer)\n",
    "response = s3_client.put_object(Bucket = bucket, Key = \"Apartment/dim_employee.csv\", Body = csv_buffer.getvalue())\n"
   ]
  },
  {
   "cell_type": "code",
   "execution_count": 21,
   "id": "595725a9",
   "metadata": {},
   "outputs": [],
   "source": [
    "#dim_parts\n",
    "\n",
    "dim_parts.to_csv(csv_buffer)\n",
    "response = s3_client.put_object(Bucket = bucket, Key = \"Apartment/dim_parts.csv\", Body = csv_buffer.getvalue())\n"
   ]
  },
  {
   "cell_type": "markdown",
   "id": "5bba0186",
   "metadata": {},
   "source": [
    "### Creating a database schema for all the facts and dimension tables."
   ]
  },
  {
   "cell_type": "code",
   "execution_count": 22,
   "id": "b7a97fd2",
   "metadata": {},
   "outputs": [
    {
     "name": "stdout",
     "output_type": "stream",
     "text": [
      "CREATE TABLE \"fact_bill\" (\n",
      "\"index\" INTEGER,\n",
      "  \"ResidentID\" INTEGER,\n",
      "  \"UnitID\" INTEGER,\n",
      "  \"LeaseID\" INTEGER,\n",
      "  \"PaymentID\" INTEGER,\n",
      "  \"Date\" DATE,\n",
      "  \"Amount\" REAL,\n",
      "  \"AmountDue\" REAL\n",
      ")\n"
     ]
    }
   ],
   "source": [
    "\n",
    "fact_bill_sql = pd.io.sql.get_schema(fact_bill.reset_index(),'fact_bill')\n",
    "print(''.join(fact_bill_sql))"
   ]
  },
  {
   "cell_type": "code",
   "execution_count": 24,
   "id": "66e32b8b",
   "metadata": {},
   "outputs": [
    {
     "name": "stdout",
     "output_type": "stream",
     "text": [
      "CREATE TABLE \"dim_lease\" (\n",
      "\"index\" INTEGER,\n",
      "  \"LeaseID\" INTEGER,\n",
      "  \"StartDate\" DATE,\n",
      "  \"EndDate\" DATE,\n",
      "  \"MonthlyRent\" REAL,\n",
      "  \"SecurityDeposit\" REAL\n",
      ")\n"
     ]
    }
   ],
   "source": [
    "dim_lease_sql = pd.io.sql.get_schema(dim_lease.reset_index(),'dim_lease')\n",
    "print(''.join(dim_lease_sql))"
   ]
  },
  {
   "cell_type": "code",
   "execution_count": 25,
   "id": "1bea5dd4",
   "metadata": {},
   "outputs": [
    {
     "name": "stdout",
     "output_type": "stream",
     "text": [
      "CREATE TABLE \"dim_unit\" (\n",
      "\"index\" INTEGER,\n",
      "  \"UnitId\" INTEGER,\n",
      "  \"Area\" REAL,\n",
      "  \"Type\" TEXT,\n",
      "  \"Baths\" REAL,\n",
      "  \"Bed\" REAL,\n",
      "  \"Laundry\" INTEGER,\n",
      "  \"ParkingNo\" REAL\n",
      ")\n"
     ]
    }
   ],
   "source": [
    "dim_unit_sql = pd.io.sql.get_schema(dim_unit.reset_index(),'dim_unit')\n",
    "print(''.join(dim_unit_sql))"
   ]
  },
  {
   "cell_type": "code",
   "execution_count": 26,
   "id": "27841690",
   "metadata": {},
   "outputs": [
    {
     "name": "stdout",
     "output_type": "stream",
     "text": [
      "CREATE TABLE \"dim_resident\" (\n",
      "\"index\" INTEGER,\n",
      "  \"ResidentID\" INTEGER,\n",
      "  \"FirstName\" TEXT,\n",
      "  \"LastName\" TEXT,\n",
      "  \"EmailAddress\" TEXT,\n",
      "  \"Phone\" TEXT,\n",
      "  \"PermanentAddress\" TEXT\n",
      ")\n"
     ]
    }
   ],
   "source": [
    "dim_resident_sql = pd.io.sql.get_schema(dim_resident.reset_index(),'dim_resident')\n",
    "print(''.join(dim_resident_sql))"
   ]
  },
  {
   "cell_type": "code",
   "execution_count": 27,
   "id": "2bbe104e",
   "metadata": {},
   "outputs": [
    {
     "name": "stdout",
     "output_type": "stream",
     "text": [
      "CREATE TABLE \"dim_payment\" (\n",
      "\"index\" INTEGER,\n",
      "  \"PaymentId\" INTEGER,\n",
      "  \"Type\" TEXT,\n",
      "  \"Date\" DATE,\n",
      "  \"Amount\" REAL,\n",
      "  \"AmountDue\" REAL\n",
      ")\n"
     ]
    }
   ],
   "source": [
    "dim_payment_sql = pd.io.sql.get_schema(dim_payment.reset_index(),'dim_payment')\n",
    "print(''.join(dim_payment_sql))"
   ]
  },
  {
   "cell_type": "code",
   "execution_count": 28,
   "id": "cf3fedf0",
   "metadata": {},
   "outputs": [
    {
     "name": "stdout",
     "output_type": "stream",
     "text": [
      "CREATE TABLE \"fact_maintenance\" (\n",
      "\"index\" INTEGER,\n",
      "  \"UnitID\" REAL,\n",
      "  \"EmployeeID\" INTEGER,\n",
      "  \"PartID\" INTEGER,\n",
      "  \"Type\" TEXT,\n",
      "  \"ReportDate\" DATE,\n",
      "  \"StartDate\" DATE,\n",
      "  \"CompletionDate\" DATE\n",
      ")\n"
     ]
    }
   ],
   "source": [
    "fact_maintenance_sql = pd.io.sql.get_schema(fact_maintenance.reset_index(),'fact_maintenance')\n",
    "print(''.join(fact_maintenance_sql))"
   ]
  },
  {
   "cell_type": "code",
   "execution_count": 29,
   "id": "45e61e55",
   "metadata": {},
   "outputs": [
    {
     "name": "stdout",
     "output_type": "stream",
     "text": [
      "CREATE TABLE \"dim_employee\" (\n",
      "\"index\" INTEGER,\n",
      "  \"EmployeeID\" INTEGER,\n",
      "  \"FirstName\" TEXT,\n",
      "  \"LastName\" TEXT,\n",
      "  \"Position\" TEXT,\n",
      "  \"Phone\" TEXT\n",
      ")\n"
     ]
    }
   ],
   "source": [
    "dim_employee_sql = pd.io.sql.get_schema(dim_employee.reset_index(),'dim_employee')\n",
    "print(''.join(dim_employee_sql))"
   ]
  },
  {
   "cell_type": "code",
   "execution_count": 30,
   "id": "fd875433",
   "metadata": {},
   "outputs": [
    {
     "name": "stdout",
     "output_type": "stream",
     "text": [
      "CREATE TABLE \"dim_parts\" (\n",
      "\"index\" INTEGER,\n",
      "  \"PartId\" INTEGER,\n",
      "  \"Name\" TEXT,\n",
      "  \"UnitPRice\" REAL,\n",
      "  \"QuantityAvailable\" INTEGER\n",
      ")\n"
     ]
    }
   ],
   "source": [
    "dim_parts_sql = pd.io.sql.get_schema(dim_parts.reset_index(),'dim_parts')\n",
    "print(''.join(dim_parts_sql))"
   ]
  },
  {
   "cell_type": "markdown",
   "id": "cec6e8d6",
   "metadata": {},
   "source": [
    "### Hiding Redshift Credentials "
   ]
  },
  {
   "cell_type": "code",
   "execution_count": 32,
   "id": "89e2e053",
   "metadata": {},
   "outputs": [
    {
     "name": "stdout",
     "output_type": "stream",
     "text": [
      "Enter host ········\n",
      "Enter database name········\n",
      "Enter your password········\n",
      "Enter your password········\n"
     ]
    }
   ],
   "source": [
    "\n",
    "host1 = getpass.getpass('Enter host ')\n",
    "database1 = getpass.getpass('Enter database name')\n",
    "user1 = getpass.getpass('Enter your password')\n",
    "password1 = getpass.getpass('Enter your password')"
   ]
  },
  {
   "cell_type": "code",
   "execution_count": 33,
   "id": "e2c7af19",
   "metadata": {},
   "outputs": [],
   "source": [
    "\n",
    "conn = redshift_connector.connect(\n",
    "     host = host1,\n",
    "     database = database1,\n",
    "     user = user1,\n",
    "     password  = password1\n",
    "  )\n",
    "conn.autocommit = True\n",
    "cursor = redshift_connector.Cursor = conn.cursor()\n"
   ]
  },
  {
   "cell_type": "markdown",
   "id": "76629c24",
   "metadata": {},
   "source": [
    "### Script that creates the schema and export data from s3 to Redshift data warehouse which is scheduled in AWS glue job."
   ]
  },
  {
   "cell_type": "code",
   "execution_count": 34,
   "id": "97ca949d",
   "metadata": {},
   "outputs": [],
   "source": [
    "\n",
    "#fact_bill\n",
    "cursor.execute(\"\"\"CREATE TABLE \"fact_bill\" (\n",
    "\"index\" INTEGER,\n",
    "  \"ResidentID\" INTEGER,\n",
    "  \"UnitID\" INTEGER,\n",
    "  \"LeaseID\" INTEGER,\n",
    "  \"PaymentID\" INTEGER,\n",
    "  \"Date\" DATE,\n",
    "  \"Amount\" REAL,\n",
    "  \"AmountDue\" REAL\n",
    ")\"\"\")\n",
    "\n",
    "cursor.execute(\"\"\"CREATE TABLE \"dim_lease\" (\n",
    "\"index\" INTEGER,\n",
    "  \"LeaseID\" INTEGER,\n",
    "  \"StartDate\" DATE,\n",
    "  \"EndDate\" DATE,\n",
    "  \"MonthlyRent\" REAL,\n",
    "  \"SecurityDeposit\" REAL\n",
    ")\"\"\")\n",
    "\n",
    "cursor.execute(\"\"\"CREATE TABLE \"dim_unit\" (\n",
    "\"index\" INTEGER,\n",
    "  \"UnitId\" INTEGER,\n",
    "  \"Area\" REAL,\n",
    "  \"Type\" TEXT,\n",
    "  \"Baths\" REAL,\n",
    "  \"Bed\" REAL,\n",
    "  \"Laundry\" TEXT,\n",
    "  \"ParkingNo\" REAL\n",
    ")\"\"\")\n",
    "\n",
    "cursor.execute(\"\"\"CREATE TABLE \"dim_resident\" (\n",
    "\"index\" INTEGER,\n",
    "  \"ResidentID\" INTEGER,\n",
    "  \"FirstName\" TEXT,\n",
    "  \"LastName\" TEXT,\n",
    "  \"EmailAddress\" TEXT,\n",
    "  \"Phone\" TEXT,\n",
    "  \"PermanentAddress\" TEXT\n",
    ")\"\"\")\n",
    "\n",
    "cursor.execute(\"\"\"CREATE TABLE \"dim_payment\" (\n",
    "\"index\" INTEGER,\n",
    "  \"PaymentId\" INTEGER,\n",
    "  \"Type\" TEXT,\n",
    "  \"Date\" DATE,\n",
    "  \"Amount\" REAL,\n",
    "  \"AmountDue\" REAL\n",
    ") \"\"\")\n",
    "\n",
    "cursor.execute(\"\"\"CREATE TABLE \"fact_maintenance\" (\n",
    "\"index\" INTEGER,\n",
    "  \"UnitID\" REAL,\n",
    "  \"EmployeeID\" INTEGER,\n",
    "  \"PartID\" INTEGER,\n",
    "  \"Type\" TEXT,\n",
    "  \"ReportDate\" DATE,\n",
    "  \"ProblemDescription\" TEXT,\n",
    "  \"StartDate\" DATE,\n",
    "  \"CompletionDate\" DATE\n",
    ")\"\"\")\n",
    "\n",
    "cursor.execute(\"\"\"CREATE TABLE \"dim_employee\" (\n",
    "\"index\" INTEGER,\n",
    "  \"EmployeeID\" INTEGER,\n",
    "  \"FirstName\" TEXT,\n",
    "  \"LastName\" TEXT,\n",
    "  \"Position\" TEXT,\n",
    "  \"Phone\" TEXT\n",
    ")\"\"\")\n",
    "\n",
    "cursor.execute(\"\"\"CREATE TABLE \"dim_parts\" (\n",
    "\"index\" INTEGER,\n",
    "  \"PartId\" INTEGER,\n",
    "  \"Name\" TEXT,\n",
    "  \"Description\" TEXT,\n",
    "  \"UnitPRice\" REAL,\n",
    "  \"QuantityAvailable\" REAL\n",
    ")\"\"\")\n",
    "\n",
    "\n",
    "#Copy from s3 to Redshift\n",
    "\n",
    "#fact_bill\n",
    "cursor.execute(\"\"\"\n",
    "copy fact_bill \n",
    "from 's3://kshitiz-project/Apartment/fact_bill.csv'\n",
    "credentials 'aws_iam_role=arn:aws:iam::829978880207:role/s3-redshift'\n",
    "delimiter ','\n",
    "region 'us-east-1'\n",
    "IGNOREHEADER 1\n",
    "\"\"\")\n",
    "\n",
    "#dim_lease\n",
    "cursor.execute(\"\"\"\n",
    "copy dim_lease \n",
    "from 's3://kshitiz-project/Apartment/dim_lease.csv'\n",
    "credentials 'aws_iam_role=arn:aws:iam::829978880207:role/s3-redshift'\n",
    "delimiter ','\n",
    "region 'us-east-1'\n",
    "IGNOREHEADER 1\n",
    "\"\"\")\n",
    "\n",
    "#dim_resident\n",
    "cursor.execute(\"\"\"\n",
    "copy dim_resident \n",
    "from 's3://kshitiz-project/Apartment/dim_resident.csv'\n",
    "credentials 'aws_iam_role=arn:aws:iam::829978880207:role/s3-redshift'\n",
    "delimiter ','\n",
    "region 'us-east-1'\n",
    "IGNOREHEADER 1\n",
    "\"\"\")\n",
    "\n",
    "#dim_payment\n",
    "cursor.execute(\"\"\"\n",
    "copy dim_payment \n",
    "from 's3://kshitiz-project/Apartment/dim_payment.csv'\n",
    "credentials 'aws_iam_role=arn:aws:iam::829978880207:role/s3-redshift'\n",
    "delimiter ','\n",
    "region 'us-east-1'\n",
    "IGNOREHEADER 1\n",
    "\"\"\")\n",
    "\n",
    "#dim_unit\n",
    "cursor.execute(\"\"\"\n",
    "copy dim_unit \n",
    "from 's3://kshitiz-project/Apartment/dim_unit.csv'\n",
    "credentials 'aws_iam_role=arn:aws:iam::829978880207:role/s3-redshift'\n",
    "delimiter ','\n",
    "region 'us-east-1'\n",
    "IGNOREHEADER 1\n",
    "\"\"\")\n",
    "\n",
    "#dim_employee\n",
    "cursor.execute(\"\"\"\n",
    "copy dim_employee \n",
    "from 's3://kshitiz-project/Apartment/dim_employee.csv'\n",
    "credentials 'aws_iam_role=arn:aws:iam::829978880207:role/s3-redshift'\n",
    "delimiter ','\n",
    "region 'us-east-1'\n",
    "IGNOREHEADER 1\n",
    "\"\"\")\n",
    "\n",
    "#dim_parts\n",
    "cursor.execute(\"\"\"\n",
    "copy dim_parts \n",
    "from 's3://kshitiz-project/Apartment/dim_parts.csv'\n",
    "credentials 'aws_iam_role=arn:aws:iam::829978880207:role/s3-redshift'\n",
    "delimiter ','\n",
    "region 'us-east-1'\n",
    "IGNOREHEADER 1\n",
    "\"\"\")\n",
    "\n",
    "#fact_maintenance\n",
    "cursor.execute(\"\"\"\n",
    "copy dim_resident \n",
    "from 's3://kshitiz-project/Apartment/dim_resident.csv'\n",
    "credentials 'aws_iam_role=arn:aws:iam::829978880207:role/s3-redshift'\n",
    "delimiter ','\n",
    "region 'us-east-1'\n",
    "IGNOREHEADER 1\n",
    "\"\"\")\n"
   ]
  }
 ],
 "metadata": {
  "kernelspec": {
   "display_name": "Python 3 (ipykernel)",
   "language": "python",
   "name": "python3"
  },
  "language_info": {
   "codemirror_mode": {
    "name": "ipython",
    "version": 3
   },
   "file_extension": ".py",
   "mimetype": "text/x-python",
   "name": "python",
   "nbconvert_exporter": "python",
   "pygments_lexer": "ipython3",
   "version": "3.9.12"
  }
 },
 "nbformat": 4,
 "nbformat_minor": 5
}
